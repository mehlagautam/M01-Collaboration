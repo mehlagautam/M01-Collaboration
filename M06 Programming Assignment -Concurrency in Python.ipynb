{
 "cells": [
  {
   "cell_type": "code",
   "execution_count": 1,
   "id": "7e7120a0",
   "metadata": {},
   "outputs": [
    {
     "name": "stdout",
     "output_type": "stream",
     "text": [
      "The current date has been written to today.txt.\n"
     ]
    }
   ],
   "source": [
    "from datetime import date\n",
    "\n",
    "current_date = str(date.today())\n",
    "\n",
    "file_path = 'today.txt'\n",
    "\n",
    "with open(file_path, 'w') as file:\n",
    "    file.write(current_date)\n",
    "\n",
    "print(f'The current date has been written to {file_path}.')\n"
   ]
  },
  {
   "cell_type": "code",
   "execution_count": 2,
   "id": "1a841932",
   "metadata": {},
   "outputs": [
    {
     "name": "stdout",
     "output_type": "stream",
     "text": [
      "Contents of today.txt: 2023-12-02\n"
     ]
    }
   ],
   "source": [
    "\n",
    "file_path = 'today.txt'\n",
    "\n",
    "\n",
    "with open(file_path, 'r') as file:\n",
    "    today_string = file.read()\n",
    "\n",
    "print(f'Contents of {file_path}: {today_string}')\n"
   ]
  },
  {
   "cell_type": "code",
   "execution_count": 3,
   "id": "f0ec25c4",
   "metadata": {},
   "outputs": [
    {
     "name": "stdout",
     "output_type": "stream",
     "text": [
      "Parsed Date: 2023-12-02 00:00:00\n"
     ]
    }
   ],
   "source": [
    "from datetime import datetime\n",
    "\n",
    "today_string = '2023-12-02'\n",
    "\n",
    "parsed_date = datetime.strptime(today_string, '%Y-%m-%d')\n",
    "\n",
    "print(f'Parsed Date: {parsed_date}')\n"
   ]
  },
  {
   "cell_type": "code",
   "execution_count": 4,
   "id": "3efba3d7",
   "metadata": {},
   "outputs": [
    {
     "name": "stdout",
     "output_type": "stream",
     "text": [
      "All processes have finished.\n"
     ]
    }
   ],
   "source": [
    "import multiprocessing\n",
    "import time\n",
    "import random\n",
    "from datetime import datetime\n",
    "\n",
    "def print_current_time(process_name):\n",
    "    sleep_duration = random.uniform(0, 1)\n",
    "    time.sleep(sleep_duration)\n",
    "    \n",
    "    current_time = datetime.now().strftime('%Y-%m-%d %H:%M:%S')\n",
    "    print(f'Process {process_name}: {current_time}')\n",
    "\n",
    "if __name__ == '__main__':\n",
    "    processes = []\n",
    "    for i in range(3):\n",
    "        process = multiprocessing.Process(target=print_current_time, args=(f'Process-{i+1}',))\n",
    "        processes.append(process)\n",
    "        process.start()\n",
    "\n",
    "    for process in processes:\n",
    "        process.join()\n",
    "\n",
    "    print(\"All processes have finished.\")\n",
    "\n"
   ]
  },
  {
   "cell_type": "code",
   "execution_count": null,
   "id": "d5b69f30",
   "metadata": {},
   "outputs": [],
   "source": []
  }
 ],
 "metadata": {
  "kernelspec": {
   "display_name": "Python 3 (ipykernel)",
   "language": "python",
   "name": "python3"
  },
  "language_info": {
   "codemirror_mode": {
    "name": "ipython",
    "version": 3
   },
   "file_extension": ".py",
   "mimetype": "text/x-python",
   "name": "python",
   "nbconvert_exporter": "python",
   "pygments_lexer": "ipython3",
   "version": "3.11.5"
  }
 },
 "nbformat": 4,
 "nbformat_minor": 5
}
